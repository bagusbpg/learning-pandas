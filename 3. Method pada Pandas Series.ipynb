{
 "cells": [
  {
   "cell_type": "markdown",
   "id": "d2acbc62",
   "metadata": {},
   "source": [
    "# Methods pada Pandas Series"
   ]
  },
  {
   "cell_type": "markdown",
   "id": "02ad1fcf",
   "metadata": {},
   "source": [
    "Pada topik sebelumnya, \"Attributes pada Pandas Series\", kita sudah berkenalan dengan attributes.\n",
    "\n",
    "Sekarang, kita akan melanjutkan pembahasan ke methods pada pandas series.\n",
    "\n",
    "Kita masih akan menggunakan series yang sama dengan topik sebelumnya."
   ]
  },
  {
   "cell_type": "code",
   "execution_count": 1,
   "id": "04a10e4a",
   "metadata": {},
   "outputs": [],
   "source": [
    "import pandas as pd"
   ]
  },
  {
   "cell_type": "code",
   "execution_count": 2,
   "id": "ae0a1601",
   "metadata": {},
   "outputs": [],
   "source": [
    "data_umur_pengusaha = {'Jeff Bezos':57, 'Elon Musk':49, 'Bernard Arnault':72, 'Bill Gates':65,\n",
    "                       'Mark Zuckerberg':36, 'Warren Buffet':90, 'Larry Ellison':76, 'Larry Page':48,\n",
    "                       'Sergey Brin':47, 'Mukesh Ambani':63}\n",
    "\n",
    "data_negara_asal = {'Jeff Bezos':'Amerika Serikat', 'Elon Musk':'Amerika Serikat',\n",
    "                    'Bernard Arnault':'Perancis', 'Bill Gates':'Amerika Serikat',\n",
    "                    'Mark Zuckerberg':'Amerika Serikat', 'Warren Buffet':'Amerika Serikat',\n",
    "                    'Larry Page':'Amerika Serikat', 'Mukesh Ambani':'India'}\n",
    "\n",
    "index = ['Jeff Bezos', 'Elon Musk', 'Bernard Arnault', 'Bill Gates', 'Mark Zuckerberg',\n",
    "         'Warren Buffet', 'Larry Ellison', 'Larry Page', 'Sergey Brin', 'Mukesh Ambani']\n",
    "\n",
    "umur_pengusaha = pd.Series(data_umur_pengusaha, name='umur_pengusaha')\n",
    "\n",
    "negara_asal = pd.Series(data_negara_asal, index=index, name='negara_asal')"
   ]
  },
  {
   "cell_type": "code",
   "execution_count": 3,
   "id": "8bf3ac57",
   "metadata": {},
   "outputs": [
    {
     "data": {
      "text/plain": [
       "Jeff Bezos         57\n",
       "Elon Musk          49\n",
       "Bernard Arnault    72\n",
       "Bill Gates         65\n",
       "Mark Zuckerberg    36\n",
       "Warren Buffet      90\n",
       "Larry Ellison      76\n",
       "Larry Page         48\n",
       "Sergey Brin        47\n",
       "Mukesh Ambani      63\n",
       "Name: umur_pengusaha, dtype: int64"
      ]
     },
     "execution_count": 3,
     "metadata": {},
     "output_type": "execute_result"
    }
   ],
   "source": [
    "umur_pengusaha"
   ]
  },
  {
   "cell_type": "code",
   "execution_count": 4,
   "id": "c4499e70",
   "metadata": {},
   "outputs": [
    {
     "data": {
      "text/plain": [
       "Jeff Bezos         Amerika Serikat\n",
       "Elon Musk          Amerika Serikat\n",
       "Bernard Arnault           Perancis\n",
       "Bill Gates         Amerika Serikat\n",
       "Mark Zuckerberg    Amerika Serikat\n",
       "Warren Buffet      Amerika Serikat\n",
       "Larry Ellison                  NaN\n",
       "Larry Page         Amerika Serikat\n",
       "Sergey Brin                    NaN\n",
       "Mukesh Ambani                India\n",
       "Name: negara_asal, dtype: object"
      ]
     },
     "execution_count": 4,
     "metadata": {},
     "output_type": "execute_result"
    }
   ],
   "source": [
    "negara_asal"
   ]
  },
  {
   "cell_type": "markdown",
   "id": "119377ba",
   "metadata": {},
   "source": [
    "Berikut akan dibahas beberapa di antara sekian banyak methods yang dapat diterapkan pada suatu series.\n",
    "\n",
    "Pertama, kita dapat mengintip observasi awal dengan method **head()**. Contohnya,"
   ]
  },
  {
   "cell_type": "code",
   "execution_count": 5,
   "id": "fb610384",
   "metadata": {},
   "outputs": [
    {
     "data": {
      "text/plain": [
       "Jeff Bezos         57\n",
       "Elon Musk          49\n",
       "Bernard Arnault    72\n",
       "Bill Gates         65\n",
       "Mark Zuckerberg    36\n",
       "Name: umur_pengusaha, dtype: int64"
      ]
     },
     "execution_count": 5,
     "metadata": {},
     "output_type": "execute_result"
    }
   ],
   "source": [
    "umur_pengusaha.head()"
   ]
  },
  {
   "cell_type": "markdown",
   "id": "c1fbd31d",
   "metadata": {},
   "source": [
    "Secara default, observasi yang ditampilkan adalah 5 yang pertama.\n",
    "\n",
    "Method **tail()** memiliki fungsi yang hampir sama, tetapi yang ditampilkan secara default adalah 5 yang terakhir."
   ]
  },
  {
   "cell_type": "code",
   "execution_count": 6,
   "id": "11f26dea",
   "metadata": {},
   "outputs": [
    {
     "data": {
      "text/plain": [
       "Warren Buffet    90\n",
       "Larry Ellison    76\n",
       "Larry Page       48\n",
       "Sergey Brin      47\n",
       "Mukesh Ambani    63\n",
       "Name: umur_pengusaha, dtype: int64"
      ]
     },
     "execution_count": 6,
     "metadata": {},
     "output_type": "execute_result"
    }
   ],
   "source": [
    "umur_pengusaha.tail()"
   ]
  },
  {
   "cell_type": "markdown",
   "id": "1e08482b",
   "metadata": {},
   "source": [
    "Method **sample()** juga memiliki fungsi yang hampir sama, tetapi yang ditampilkan secara default adalah 1 observasi acak."
   ]
  },
  {
   "cell_type": "code",
   "execution_count": 7,
   "id": "05ace4a1",
   "metadata": {},
   "outputs": [
    {
     "data": {
      "text/plain": [
       "Larry Ellison    76\n",
       "Name: umur_pengusaha, dtype: int64"
      ]
     },
     "execution_count": 7,
     "metadata": {},
     "output_type": "execute_result"
    }
   ],
   "source": [
    "umur_pengusaha.sample()"
   ]
  },
  {
   "cell_type": "markdown",
   "id": "212466a4",
   "metadata": {},
   "source": [
    "Selanjutnya, nilai terbesar pada series umur_pengusaha dapat diketahui melalui method **max()** sebagai berikut,"
   ]
  },
  {
   "cell_type": "code",
   "execution_count": 8,
   "id": "615e886d",
   "metadata": {
    "scrolled": true
   },
   "outputs": [
    {
     "data": {
      "text/plain": [
       "90"
      ]
     },
     "execution_count": 8,
     "metadata": {},
     "output_type": "execute_result"
    }
   ],
   "source": [
    "umur_pengusaha.max()"
   ]
  },
  {
   "cell_type": "markdown",
   "id": "d77df9a5",
   "metadata": {},
   "source": [
    "yang mana observasi tersebut terdapat pada urutan indeks yang dapat diketahui melalui method **argmax()** sebagai berikut,"
   ]
  },
  {
   "cell_type": "code",
   "execution_count": 9,
   "id": "e2c09a48",
   "metadata": {
    "scrolled": true
   },
   "outputs": [
    {
     "data": {
      "text/plain": [
       "5"
      ]
     },
     "execution_count": 9,
     "metadata": {},
     "output_type": "execute_result"
    }
   ],
   "source": [
    "umur_pengusaha.argmax()"
   ]
  },
  {
   "cell_type": "markdown",
   "id": "d3addb06",
   "metadata": {},
   "source": [
    "Nilai indeks pada method argmax() di atas dapat diketahui dengan method **idxmax()** sebagai berikut,"
   ]
  },
  {
   "cell_type": "code",
   "execution_count": 10,
   "id": "527d4b15",
   "metadata": {},
   "outputs": [
    {
     "data": {
      "text/plain": [
       "'Warren Buffet'"
      ]
     },
     "execution_count": 10,
     "metadata": {},
     "output_type": "execute_result"
    }
   ],
   "source": [
    "umur_pengusaha.idxmax()"
   ]
  },
  {
   "cell_type": "markdown",
   "id": "a978c2b9",
   "metadata": {},
   "source": [
    "Perhatikan perbedaan antara argmax() dan idxmax(), di mana argmax() lebih ke urutan indeks, sedangkan idxmax() lebih ke nilai indeks itu sendiri.\n",
    "\n",
    "Sejenis dengan method max(), kita juga dapat mengetahui nilai terkecil pada series umur_pengusaha melalui method **min()** sebagai berikut,"
   ]
  },
  {
   "cell_type": "code",
   "execution_count": 11,
   "id": "fbc85a3a",
   "metadata": {},
   "outputs": [
    {
     "data": {
      "text/plain": [
       "36"
      ]
     },
     "execution_count": 11,
     "metadata": {},
     "output_type": "execute_result"
    }
   ],
   "source": [
    "umur_pengusaha.min()"
   ]
  },
  {
   "cell_type": "markdown",
   "id": "f4620dea",
   "metadata": {},
   "source": [
    "yang mana observasi tersebut terdapat pada urutan indeks yang dapat diketahui melalui method **argmin()** sebagai berikut,"
   ]
  },
  {
   "cell_type": "code",
   "execution_count": 12,
   "id": "207ca4de",
   "metadata": {
    "scrolled": true
   },
   "outputs": [
    {
     "data": {
      "text/plain": [
       "4"
      ]
     },
     "execution_count": 12,
     "metadata": {},
     "output_type": "execute_result"
    }
   ],
   "source": [
    "umur_pengusaha.argmin()"
   ]
  },
  {
   "cell_type": "markdown",
   "id": "a9c5811e",
   "metadata": {},
   "source": [
    "Nilai indeks pada method argmin() di atas dapat diketahui dengan method **idxmin()** sebagai berikut,"
   ]
  },
  {
   "cell_type": "code",
   "execution_count": 13,
   "id": "f9d622a7",
   "metadata": {},
   "outputs": [
    {
     "data": {
      "text/plain": [
       "'Mark Zuckerberg'"
      ]
     },
     "execution_count": 13,
     "metadata": {},
     "output_type": "execute_result"
    }
   ],
   "source": [
    "umur_pengusaha.idxmin()"
   ]
  },
  {
   "cell_type": "markdown",
   "id": "70bc6692",
   "metadata": {},
   "source": [
    "Artinya, argmin() lebih ke urutan indeks, sedangkan idxmin() lebih ke nilai indeks itu sendiri.\n",
    "\n",
    "Kita juga dapat memeriksa setiap observasi dalam suatu series apakah termasuk observasi ganda atau tidak dengan method **duplicated()**. Ingat, konsep serupa pada attribute is_unique pada topik sebelumnya."
   ]
  },
  {
   "cell_type": "code",
   "execution_count": 14,
   "id": "d806924e",
   "metadata": {},
   "outputs": [
    {
     "data": {
      "text/plain": [
       "Jeff Bezos         False\n",
       "Elon Musk           True\n",
       "Bernard Arnault    False\n",
       "Bill Gates          True\n",
       "Mark Zuckerberg     True\n",
       "Warren Buffet       True\n",
       "Larry Ellison      False\n",
       "Larry Page          True\n",
       "Sergey Brin         True\n",
       "Mukesh Ambani      False\n",
       "Name: negara_asal, dtype: bool"
      ]
     },
     "execution_count": 14,
     "metadata": {},
     "output_type": "execute_result"
    }
   ],
   "source": [
    "negara_asal.duplicated()"
   ]
  },
  {
   "cell_type": "markdown",
   "id": "586ced95",
   "metadata": {},
   "source": [
    "Pada indeks `Elon Musk`, nilainya `True` karena observasi pada indeks tersebut bukanlah yang pertama muncul (sudah yang kedua kalinya). Observasi pertama untuk `Amerika Serikat` muncul pada indeks `Jeff Bezos`, sehingga nilai pada indeks tersebut menjadi `False` ketika memanggil method duplicated().\n",
    "\n",
    "Jika kita ingin menghapus observasi ganda yang ada dalam suatu series, kita dapat menggunakan method **drop_duplicates()** sebagai berikut,"
   ]
  },
  {
   "cell_type": "code",
   "execution_count": 15,
   "id": "cd62d44b",
   "metadata": {},
   "outputs": [
    {
     "data": {
      "text/plain": [
       "Jeff Bezos         Amerika Serikat\n",
       "Bernard Arnault           Perancis\n",
       "Larry Ellison                  NaN\n",
       "Mukesh Ambani                India\n",
       "Name: negara_asal, dtype: object"
      ]
     },
     "execution_count": 15,
     "metadata": {},
     "output_type": "execute_result"
    }
   ],
   "source": [
    "negara_asal.drop_duplicates()"
   ]
  },
  {
   "cell_type": "markdown",
   "id": "542a0b23",
   "metadata": {},
   "source": [
    "Perhatikan bahwa series yang dihasilkan adalah himpunan observasi yang unik (hanya yang pertama kali muncul).\n",
    "\n",
    "Selain itu, kita dapat memeriksa setiap observasi dalam suatu series apakah berupa `nan` atau tidak dengan method **isna()**."
   ]
  },
  {
   "cell_type": "code",
   "execution_count": 16,
   "id": "1faed5aa",
   "metadata": {},
   "outputs": [
    {
     "data": {
      "text/plain": [
       "Jeff Bezos         False\n",
       "Elon Musk          False\n",
       "Bernard Arnault    False\n",
       "Bill Gates         False\n",
       "Mark Zuckerberg    False\n",
       "Warren Buffet      False\n",
       "Larry Ellison       True\n",
       "Larry Page         False\n",
       "Sergey Brin         True\n",
       "Mukesh Ambani      False\n",
       "Name: negara_asal, dtype: bool"
      ]
     },
     "execution_count": 16,
     "metadata": {},
     "output_type": "execute_result"
    }
   ],
   "source": [
    "negara_asal.isna()"
   ]
  },
  {
   "cell_type": "markdown",
   "id": "70f93f47",
   "metadata": {},
   "source": [
    "Pada indeks `Larry Ellison`, observasi bernilai `True` karena merupakan `nan`.\n",
    "\n",
    "Kebalikan dari method isna(), terdapat method **notna()** yang akan mengembalikan nilai `True` jika suatu observasi bukan `nan`."
   ]
  },
  {
   "cell_type": "code",
   "execution_count": 17,
   "id": "ae15dfaa",
   "metadata": {},
   "outputs": [
    {
     "data": {
      "text/plain": [
       "Jeff Bezos          True\n",
       "Elon Musk           True\n",
       "Bernard Arnault     True\n",
       "Bill Gates          True\n",
       "Mark Zuckerberg     True\n",
       "Warren Buffet       True\n",
       "Larry Ellison      False\n",
       "Larry Page          True\n",
       "Sergey Brin        False\n",
       "Mukesh Ambani       True\n",
       "Name: negara_asal, dtype: bool"
      ]
     },
     "execution_count": 17,
     "metadata": {},
     "output_type": "execute_result"
    }
   ],
   "source": [
    "negara_asal.notna()"
   ]
  },
  {
   "cell_type": "markdown",
   "id": "4509f1ce",
   "metadata": {},
   "source": [
    "Jika kita ingin menghapus observasi `nan` yang ada dalam suatu series, kita dapat menggunakan method **dropna()** sebagai berikut,"
   ]
  },
  {
   "cell_type": "code",
   "execution_count": 18,
   "id": "5253f1dc",
   "metadata": {
    "scrolled": false
   },
   "outputs": [
    {
     "data": {
      "text/plain": [
       "Jeff Bezos         Amerika Serikat\n",
       "Elon Musk          Amerika Serikat\n",
       "Bernard Arnault           Perancis\n",
       "Bill Gates         Amerika Serikat\n",
       "Mark Zuckerberg    Amerika Serikat\n",
       "Warren Buffet      Amerika Serikat\n",
       "Larry Page         Amerika Serikat\n",
       "Mukesh Ambani                India\n",
       "Name: negara_asal, dtype: object"
      ]
     },
     "execution_count": 18,
     "metadata": {},
     "output_type": "execute_result"
    }
   ],
   "source": [
    "negara_asal.dropna()"
   ]
  },
  {
   "cell_type": "markdown",
   "id": "aa70ca91",
   "metadata": {},
   "source": [
    "Atau alternatifnya, kita dapat mengisi observasi `nan` dengan nilai yang lain melalui method **fillna()**.\n",
    "\n",
    "Pada contoh di bawah ini, observasi `nan` diisi dengan string `Unknown`."
   ]
  },
  {
   "cell_type": "code",
   "execution_count": 19,
   "id": "d09e14b9",
   "metadata": {},
   "outputs": [
    {
     "data": {
      "text/plain": [
       "Jeff Bezos         Amerika Serikat\n",
       "Elon Musk          Amerika Serikat\n",
       "Bernard Arnault           Perancis\n",
       "Bill Gates         Amerika Serikat\n",
       "Mark Zuckerberg    Amerika Serikat\n",
       "Warren Buffet      Amerika Serikat\n",
       "Larry Ellison              Unknown\n",
       "Larry Page         Amerika Serikat\n",
       "Sergey Brin                Unknown\n",
       "Mukesh Ambani                India\n",
       "Name: negara_asal, dtype: object"
      ]
     },
     "execution_count": 19,
     "metadata": {},
     "output_type": "execute_result"
    }
   ],
   "source": [
    "negara_asal.fillna('Unknown')"
   ]
  },
  {
   "cell_type": "markdown",
   "id": "68b29578",
   "metadata": {},
   "source": [
    "Untuk menghitung jumlah observasi selain `nan` yang terdapat dalam suatu series, dapat digunakan method **count()**."
   ]
  },
  {
   "cell_type": "code",
   "execution_count": 20,
   "id": "485b67c9",
   "metadata": {},
   "outputs": [
    {
     "data": {
      "text/plain": [
       "10"
      ]
     },
     "execution_count": 20,
     "metadata": {},
     "output_type": "execute_result"
    }
   ],
   "source": [
    "umur_pengusaha.count()"
   ]
  },
  {
   "cell_type": "markdown",
   "id": "e277e265",
   "metadata": {},
   "source": [
    "Karena series umur_pengusaha tidak mengandung `nan`, hasil dari method count() akan sama dengan attribute size atau shape[0].\n",
    "\n",
    "Di sisi lain, series negara_asal mengandung dua observasi `nan`, sehingga method count() akan menghasilkan nilai berikut,"
   ]
  },
  {
   "cell_type": "code",
   "execution_count": 21,
   "id": "092d0bb7",
   "metadata": {},
   "outputs": [
    {
     "data": {
      "text/plain": [
       "8"
      ]
     },
     "execution_count": 21,
     "metadata": {},
     "output_type": "execute_result"
    }
   ],
   "source": [
    "negara_asal.count()"
   ]
  },
  {
   "cell_type": "markdown",
   "id": "b0b7813a",
   "metadata": {},
   "source": [
    "Kita lanjut ke methods untuk statistika deskriptif.\n",
    "\n",
    "Untuk menjumlahkan semua observasi numerik pada suatu series, dapat digunakan method **sum()**.\n",
    "\n",
    "Pada series umur_pengusaha, hasilnya adalah sebagai berikut,"
   ]
  },
  {
   "cell_type": "code",
   "execution_count": 22,
   "id": "0a1fb064",
   "metadata": {},
   "outputs": [
    {
     "data": {
      "text/plain": [
       "603"
      ]
     },
     "execution_count": 22,
     "metadata": {},
     "output_type": "execute_result"
    }
   ],
   "source": [
    "umur_pengusaha.sum()"
   ]
  },
  {
   "cell_type": "markdown",
   "id": "7a5baf8c",
   "metadata": {},
   "source": [
    "Selanjutnya, kita dapat menghitung rerata dengan method **mean()**. Contohnya,"
   ]
  },
  {
   "cell_type": "code",
   "execution_count": 23,
   "id": "c451d92c",
   "metadata": {},
   "outputs": [
    {
     "data": {
      "text/plain": [
       "60.3"
      ]
     },
     "execution_count": 23,
     "metadata": {},
     "output_type": "execute_result"
    }
   ],
   "source": [
    "umur_pengusaha.mean()"
   ]
  },
  {
   "cell_type": "markdown",
   "id": "9ec347ab",
   "metadata": {},
   "source": [
    "Untuk memverifikasi hasil di atas, kita dapat melakukan perhitungan sebagai berikut,\n",
    "\n",
    "$\\bar x=\\frac{1}{N}\\sum^N_{i=0}x_i$"
   ]
  },
  {
   "cell_type": "code",
   "execution_count": 24,
   "id": "f41b663f",
   "metadata": {},
   "outputs": [
    {
     "data": {
      "text/plain": [
       "60.3"
      ]
     },
     "execution_count": 24,
     "metadata": {},
     "output_type": "execute_result"
    }
   ],
   "source": [
    "mean = umur_pengusaha.sum() / umur_pengusaha.count()\n",
    "mean"
   ]
  },
  {
   "cell_type": "markdown",
   "id": "4f92705e",
   "metadata": {},
   "source": [
    "Statistik lain yang dapat dihitung adalah varians, menggunakan method **var()**. Contohnya,"
   ]
  },
  {
   "cell_type": "code",
   "execution_count": 25,
   "id": "01ed15b6",
   "metadata": {},
   "outputs": [
    {
     "data": {
      "text/plain": [
       "261.34444444444443"
      ]
     },
     "execution_count": 25,
     "metadata": {},
     "output_type": "execute_result"
    }
   ],
   "source": [
    "umur_pengusaha.var()"
   ]
  },
  {
   "cell_type": "markdown",
   "id": "0617d46b",
   "metadata": {},
   "source": [
    "Sama seperti sebelumnya, untuk memverifikasi hasil di atas, kita dapat melakukan perhitungan sebagai berikut,\n",
    "\n",
    "$s^2=\\frac{1}{N-1}\\sum^n_{i=0}(x_i-\\bar x)^2$"
   ]
  },
  {
   "cell_type": "code",
   "execution_count": 26,
   "id": "7fdde7df",
   "metadata": {},
   "outputs": [
    {
     "data": {
      "text/plain": [
       "261.34444444444443"
      ]
     },
     "execution_count": 26,
     "metadata": {},
     "output_type": "execute_result"
    }
   ],
   "source": [
    "# mean didapatkan dari perhitungan sebelumnya\n",
    "variance = umur_pengusaha.sub(mean).pow(2).sum() / (umur_pengusaha.count() - 1)\n",
    "variance"
   ]
  },
  {
   "cell_type": "markdown",
   "id": "8a5376f6",
   "metadata": {},
   "source": [
    "Statistik yang juga penting adalah simpangan baku (standar deviasi), yang dapat dihitung menggunakan method **std()**. Contohnya,"
   ]
  },
  {
   "cell_type": "code",
   "execution_count": 27,
   "id": "b9761801",
   "metadata": {
    "scrolled": true
   },
   "outputs": [
    {
     "data": {
      "text/plain": [
       "16.16615119453126"
      ]
     },
     "execution_count": 27,
     "metadata": {},
     "output_type": "execute_result"
    }
   ],
   "source": [
    "umur_pengusaha.std()"
   ]
  },
  {
   "cell_type": "markdown",
   "id": "7c42d254",
   "metadata": {},
   "source": [
    "Untuk memverifikasi hasil di atas, perhitungan yang akan kita lakukan adalah\n",
    "\n",
    "$s=\\sqrt{s^2}=\\sqrt{\\frac{1}{N-1}\\sum^n_{i=0}(x_i-\\bar x)^2}$"
   ]
  },
  {
   "cell_type": "code",
   "execution_count": 28,
   "id": "192bd5ca",
   "metadata": {},
   "outputs": [
    {
     "data": {
      "text/plain": [
       "16.16615119453126"
      ]
     },
     "execution_count": 28,
     "metadata": {},
     "output_type": "execute_result"
    }
   ],
   "source": [
    "pow(variance, 0.5)"
   ]
  },
  {
   "cell_type": "markdown",
   "id": "27591ad8",
   "metadata": {},
   "source": [
    "Menentukan kuartil juga merupakan hal yang penting untuk diketahui.\n",
    "\n",
    "Kuartil dapat ditentukan melalui method **quantile()**. Contohnya,"
   ]
  },
  {
   "cell_type": "code",
   "execution_count": 29,
   "id": "0526fab9",
   "metadata": {},
   "outputs": [
    {
     "data": {
      "text/plain": [
       "60.0"
      ]
     },
     "execution_count": 29,
     "metadata": {},
     "output_type": "execute_result"
    }
   ],
   "source": [
    "umur_pengusaha.quantile()"
   ]
  },
  {
   "cell_type": "markdown",
   "id": "27e168ee",
   "metadata": {},
   "source": [
    "Secara default, method quantile() tanpa argumen apapun akan mengembalikan median atau kuartil kedua.\n",
    "\n",
    "Untuk kuartil pertama dan ketiga, masing-masing contohnya adalah"
   ]
  },
  {
   "cell_type": "code",
   "execution_count": 30,
   "id": "af2c912b",
   "metadata": {},
   "outputs": [
    {
     "data": {
      "text/plain": [
       "48.25"
      ]
     },
     "execution_count": 30,
     "metadata": {},
     "output_type": "execute_result"
    }
   ],
   "source": [
    "# kuartil pertama\n",
    "umur_pengusaha.quantile(0.25)"
   ]
  },
  {
   "cell_type": "code",
   "execution_count": 31,
   "id": "7b83c2aa",
   "metadata": {},
   "outputs": [
    {
     "data": {
      "text/plain": [
       "70.25"
      ]
     },
     "execution_count": 31,
     "metadata": {},
     "output_type": "execute_result"
    }
   ],
   "source": [
    "# kuartil ketiga\n",
    "umur_pengusaha.quantile(0.75)"
   ]
  },
  {
   "cell_type": "markdown",
   "id": "da895d59",
   "metadata": {},
   "source": [
    "Secara ringkas, statistika deskriptif yang penting, sebagaimana telah ditunjukkan pada berbagai method di atas, dirangkum melalui suatu method, yaitu **describe()**. Contohnya sebagai berikut,"
   ]
  },
  {
   "cell_type": "code",
   "execution_count": 32,
   "id": "e3920698",
   "metadata": {
    "scrolled": false
   },
   "outputs": [
    {
     "data": {
      "text/plain": [
       "count    10.000000\n",
       "mean     60.300000\n",
       "std      16.166151\n",
       "min      36.000000\n",
       "25%      48.250000\n",
       "50%      60.000000\n",
       "75%      70.250000\n",
       "max      90.000000\n",
       "Name: umur_pengusaha, dtype: float64"
      ]
     },
     "execution_count": 32,
     "metadata": {},
     "output_type": "execute_result"
    }
   ],
   "source": [
    "umur_pengusaha.describe()"
   ]
  },
  {
   "cell_type": "markdown",
   "id": "7c3c42ed",
   "metadata": {},
   "source": [
    "Lalu bagaimana jika series bertipe data non-numerikal?\n",
    "\n",
    "Sebagai contoh, jika kita memanggil method describe() pada series negara_asal, hasilnya menjadi seperti ini,"
   ]
  },
  {
   "cell_type": "code",
   "execution_count": 33,
   "id": "75140424",
   "metadata": {},
   "outputs": [
    {
     "data": {
      "text/plain": [
       "count                   8\n",
       "unique                  3\n",
       "top       Amerika Serikat\n",
       "freq                    6\n",
       "Name: negara_asal, dtype: object"
      ]
     },
     "execution_count": 33,
     "metadata": {},
     "output_type": "execute_result"
    }
   ],
   "source": [
    "negara_asal.describe()"
   ]
  },
  {
   "cell_type": "markdown",
   "id": "de0fae09",
   "metadata": {},
   "source": [
    "Terlihat bahwa statistika deskriptif untuk data bertipe non-numerikal terdiri dari informasi count, unique, top dan freq.\n",
    "\n",
    "Untuk informasi count, nilainya sama dengan ketika memanggil method count().\n",
    "\n",
    "Untuk informasi unique, nilainya menandakan jumlah observasi unik pada series tersebut, yang bisa didapat dengan memanggil method **nunique()** seperti contoh berikut,"
   ]
  },
  {
   "cell_type": "code",
   "execution_count": 34,
   "id": "def0b6a9",
   "metadata": {},
   "outputs": [
    {
     "data": {
      "text/plain": [
       "3"
      ]
     },
     "execution_count": 34,
     "metadata": {},
     "output_type": "execute_result"
    }
   ],
   "source": [
    "negara_asal.nunique()"
   ]
  },
  {
   "cell_type": "markdown",
   "id": "0575bf1c",
   "metadata": {},
   "source": [
    "Adanya 3 observasi unik pada series negara_asal dapat diverifikasi dengan memanggil method **unique()**.\n",
    "\n",
    "Terlihat bahwa memang terdapat 3 negara yang berbeda di dalam series negara_asal, yaitu Amerika Serikat, Perancis, dan India. Observasi `nan` tidak diperhitungkan, walaupun secara default ditampilkan oleh method unique() tersebut."
   ]
  },
  {
   "cell_type": "code",
   "execution_count": 35,
   "id": "2e4b55c7",
   "metadata": {},
   "outputs": [
    {
     "data": {
      "text/plain": [
       "array(['Amerika Serikat', 'Perancis', nan, 'India'], dtype=object)"
      ]
     },
     "execution_count": 35,
     "metadata": {},
     "output_type": "execute_result"
    }
   ],
   "source": [
    "negara_asal.unique()"
   ]
  },
  {
   "cell_type": "markdown",
   "id": "c23afbdf",
   "metadata": {},
   "source": [
    "Kemudian, informasi informasi top, nilainya menandakan modus pada series tersebut.\n",
    "\n",
    "Hal ini dapat dibuktikan dengan memanggil method **mode()**, kemudian dilengkapi dengan indeks `0`.\n",
    "\n",
    "Indeks `0` diperlukan untuk mengakses nilai kembalian method mode() tersebut."
   ]
  },
  {
   "cell_type": "code",
   "execution_count": 36,
   "id": "ab38741f",
   "metadata": {},
   "outputs": [
    {
     "data": {
      "text/plain": [
       "'Amerika Serikat'"
      ]
     },
     "execution_count": 36,
     "metadata": {},
     "output_type": "execute_result"
    }
   ],
   "source": [
    "negara_asal.mode()[0]"
   ]
  },
  {
   "cell_type": "markdown",
   "id": "f9afe3c4",
   "metadata": {},
   "source": [
    "Terakhir, informasi freq, nilainya menandakan frekuensi kemunculan observasi yang paling tinggi.\n",
    "\n",
    "Untuk mengetahui frekuensi kemunculan observasi, kita dapat menggunakan method **value_counts()** sebagai berikut,"
   ]
  },
  {
   "cell_type": "code",
   "execution_count": 37,
   "id": "59762789",
   "metadata": {},
   "outputs": [
    {
     "data": {
      "text/plain": [
       "Amerika Serikat    6\n",
       "Perancis           1\n",
       "India              1\n",
       "Name: negara_asal, dtype: int64"
      ]
     },
     "execution_count": 37,
     "metadata": {},
     "output_type": "execute_result"
    }
   ],
   "source": [
    "negara_asal.value_counts()"
   ]
  },
  {
   "cell_type": "markdown",
   "id": "5adf69eb",
   "metadata": {},
   "source": [
    "Frekuensi tertinggi dapat diperoleh dengan memberi indeks `0` pada pemanggilan method value_counts(),"
   ]
  },
  {
   "cell_type": "code",
   "execution_count": 38,
   "id": "a0248cff",
   "metadata": {},
   "outputs": [
    {
     "data": {
      "text/plain": [
       "6"
      ]
     },
     "execution_count": 38,
     "metadata": {},
     "output_type": "execute_result"
    }
   ],
   "source": [
    "negara_asal.value_counts()[0]"
   ]
  },
  {
   "cell_type": "markdown",
   "id": "689227b8",
   "metadata": {},
   "source": [
    "Selanjutnya, terdapat method **mask()** yang dapat dipergunakan untuk *menutupi* observasi tertentu dengan *mask* (topeng). Contohnya,"
   ]
  },
  {
   "cell_type": "code",
   "execution_count": 39,
   "id": "979a48bd",
   "metadata": {
    "scrolled": true
   },
   "outputs": [
    {
     "data": {
      "text/plain": [
       "Jeff Bezos              NaN\n",
       "Elon Musk               NaN\n",
       "Bernard Arnault    Perancis\n",
       "Bill Gates              NaN\n",
       "Mark Zuckerberg         NaN\n",
       "Warren Buffet           NaN\n",
       "Larry Ellison           NaN\n",
       "Larry Page              NaN\n",
       "Sergey Brin             NaN\n",
       "Mukesh Ambani         India\n",
       "Name: negara_asal, dtype: object"
      ]
     },
     "execution_count": 39,
     "metadata": {},
     "output_type": "execute_result"
    }
   ],
   "source": [
    "negara_asal.mask(negara_asal == 'Amerika Serikat')"
   ]
  },
  {
   "cell_type": "markdown",
   "id": "86ee0521",
   "metadata": {},
   "source": [
    "Jadi, dengan method mask() pada contoh di atas, observasi yang bernilai `Amerika Serikat` akan *ditutupi* dengan `nan`.\n",
    "\n",
    "Variasi lain, jika kita menuliskan argumen kedua, seperti contoh berikut,"
   ]
  },
  {
   "cell_type": "code",
   "execution_count": 40,
   "id": "b032964b",
   "metadata": {
    "scrolled": true
   },
   "outputs": [
    {
     "data": {
      "text/plain": [
       "Jeff Bezos               US\n",
       "Elon Musk                US\n",
       "Bernard Arnault    Perancis\n",
       "Bill Gates               US\n",
       "Mark Zuckerberg          US\n",
       "Warren Buffet            US\n",
       "Larry Ellison           NaN\n",
       "Larry Page               US\n",
       "Sergey Brin             NaN\n",
       "Mukesh Ambani         India\n",
       "Name: negara_asal, dtype: object"
      ]
     },
     "execution_count": 40,
     "metadata": {},
     "output_type": "execute_result"
    }
   ],
   "source": [
    "negara_asal.mask(negara_asal == 'Amerika Serikat', 'US')"
   ]
  },
  {
   "cell_type": "markdown",
   "id": "649bffc1",
   "metadata": {},
   "source": [
    "hasilnya adalah observasi yang bernilai `Amerika Serikat` akan ditutupi dengan string `US`.\n",
    "\n",
    "Hasil di atas juga dapat diperoleh dengan menerapkan method **replace()** sebagai berikut,"
   ]
  },
  {
   "cell_type": "code",
   "execution_count": 41,
   "id": "706a3216",
   "metadata": {
    "scrolled": true
   },
   "outputs": [
    {
     "data": {
      "text/plain": [
       "Jeff Bezos               US\n",
       "Elon Musk                US\n",
       "Bernard Arnault    Perancis\n",
       "Bill Gates               US\n",
       "Mark Zuckerberg          US\n",
       "Warren Buffet            US\n",
       "Larry Ellison           NaN\n",
       "Larry Page               US\n",
       "Sergey Brin             NaN\n",
       "Mukesh Ambani         India\n",
       "Name: negara_asal, dtype: object"
      ]
     },
     "execution_count": 41,
     "metadata": {},
     "output_type": "execute_result"
    }
   ],
   "source": [
    "negara_asal.replace('Amerika Serikat', 'US')"
   ]
  },
  {
   "cell_type": "markdown",
   "id": "3a336dcc",
   "metadata": {},
   "source": [
    "Method replace() memang dimaksudkan untuk mengganti observasi.\n",
    "\n",
    "Variasi lain dari kasus di atas adalah pemanggilan method **where()** seperti contoh di bawah ini,"
   ]
  },
  {
   "cell_type": "code",
   "execution_count": 42,
   "id": "93d40692",
   "metadata": {},
   "outputs": [
    {
     "data": {
      "text/plain": [
       "Jeff Bezos         Amerika Serikat\n",
       "Elon Musk          Amerika Serikat\n",
       "Bernard Arnault                NaN\n",
       "Bill Gates         Amerika Serikat\n",
       "Mark Zuckerberg    Amerika Serikat\n",
       "Warren Buffet      Amerika Serikat\n",
       "Larry Ellison                  NaN\n",
       "Larry Page         Amerika Serikat\n",
       "Sergey Brin                    NaN\n",
       "Mukesh Ambani                  NaN\n",
       "Name: negara_asal, dtype: object"
      ]
     },
     "execution_count": 42,
     "metadata": {},
     "output_type": "execute_result"
    }
   ],
   "source": [
    "negara_asal.where(negara_asal == 'Amerika Serikat')"
   ]
  },
  {
   "cell_type": "markdown",
   "id": "c767cbef",
   "metadata": {},
   "source": [
    "Kebalikan dari method mask(), method where() justru bertujuan untuk *menonjolkan* observasi dengan nilai `Amerika Serikat` pada contoh di atas, bukan menutupinya.\n",
    "\n",
    "Jika kita menuliskan argumen kedua pada method where() seperti contoh berikut,"
   ]
  },
  {
   "cell_type": "code",
   "execution_count": 43,
   "id": "65b000e5",
   "metadata": {
    "scrolled": true
   },
   "outputs": [
    {
     "data": {
      "text/plain": [
       "Jeff Bezos         Amerika Serikat\n",
       "Elon Musk          Amerika Serikat\n",
       "Bernard Arnault             non-US\n",
       "Bill Gates         Amerika Serikat\n",
       "Mark Zuckerberg    Amerika Serikat\n",
       "Warren Buffet      Amerika Serikat\n",
       "Larry Ellison               non-US\n",
       "Larry Page         Amerika Serikat\n",
       "Sergey Brin                 non-US\n",
       "Mukesh Ambani               non-US\n",
       "Name: negara_asal, dtype: object"
      ]
     },
     "execution_count": 43,
     "metadata": {},
     "output_type": "execute_result"
    }
   ],
   "source": [
    "negara_asal.where(negara_asal == 'Amerika Serikat', 'non-US')"
   ]
  },
  {
   "cell_type": "markdown",
   "id": "50d3073d",
   "metadata": {},
   "source": [
    "hasilnya adalah observasi lain yang tidak bernilai `Amerika Serikat` akan diganti dengan string `non-US`.\n",
    "\n",
    "Observasi di dalam suatu series juga dapat diurutkan nilainya, yaitu dengan menggunakan method **sort_values()**.\n",
    "\n",
    "Secara default, method sort_values() mengurutkan observasi dari kecil ke besar seperti contoh berikut,"
   ]
  },
  {
   "cell_type": "code",
   "execution_count": 44,
   "id": "9355dc81",
   "metadata": {},
   "outputs": [
    {
     "data": {
      "text/plain": [
       "Mark Zuckerberg    36\n",
       "Sergey Brin        47\n",
       "Larry Page         48\n",
       "Elon Musk          49\n",
       "Jeff Bezos         57\n",
       "Mukesh Ambani      63\n",
       "Bill Gates         65\n",
       "Bernard Arnault    72\n",
       "Larry Ellison      76\n",
       "Warren Buffet      90\n",
       "Name: umur_pengusaha, dtype: int64"
      ]
     },
     "execution_count": 44,
     "metadata": {},
     "output_type": "execute_result"
    }
   ],
   "source": [
    "umur_pengusaha.sort_values()"
   ]
  },
  {
   "cell_type": "markdown",
   "id": "f2921ed9",
   "metadata": {},
   "source": [
    "Jika ingin mengurutkan observasi dari besar ke kecil, perlu ditentukan argumen `False` untuk parameter `ascending` seperti contoh berikut,"
   ]
  },
  {
   "cell_type": "code",
   "execution_count": 45,
   "id": "b6301482",
   "metadata": {},
   "outputs": [
    {
     "data": {
      "text/plain": [
       "Warren Buffet      90\n",
       "Larry Ellison      76\n",
       "Bernard Arnault    72\n",
       "Bill Gates         65\n",
       "Mukesh Ambani      63\n",
       "Jeff Bezos         57\n",
       "Elon Musk          49\n",
       "Larry Page         48\n",
       "Sergey Brin        47\n",
       "Mark Zuckerberg    36\n",
       "Name: umur_pengusaha, dtype: int64"
      ]
     },
     "execution_count": 45,
     "metadata": {},
     "output_type": "execute_result"
    }
   ],
   "source": [
    "umur_pengusaha.sort_values(ascending=False)"
   ]
  },
  {
   "cell_type": "markdown",
   "id": "fd817d21",
   "metadata": {},
   "source": [
    "Variasi lain untuk mengurutkan observasi adalah berdasarkan indeksnya, yaitu dengan menggunakan method **sort_index()**.\n",
    "\n",
    "Secara default, method sort_index() mengurutkan observasi berdasarkan indeks dari kecil ke besar.\n",
    "\n",
    "Untuk kasus indeks berupa string, urutannya adalah dari abjad aA ke zZ."
   ]
  },
  {
   "cell_type": "code",
   "execution_count": 46,
   "id": "ef1c11ed",
   "metadata": {
    "scrolled": true
   },
   "outputs": [
    {
     "data": {
      "text/plain": [
       "Bernard Arnault    72\n",
       "Bill Gates         65\n",
       "Elon Musk          49\n",
       "Jeff Bezos         57\n",
       "Larry Ellison      76\n",
       "Larry Page         48\n",
       "Mark Zuckerberg    36\n",
       "Mukesh Ambani      63\n",
       "Sergey Brin        47\n",
       "Warren Buffet      90\n",
       "Name: umur_pengusaha, dtype: int64"
      ]
     },
     "execution_count": 46,
     "metadata": {},
     "output_type": "execute_result"
    }
   ],
   "source": [
    "umur_pengusaha.sort_index()"
   ]
  },
  {
   "cell_type": "markdown",
   "id": "8cb8240e",
   "metadata": {},
   "source": [
    "Untuk kebalikan dari hasil di atas, dapat dicoba dengan menuliskan argumen `False` untuk parameter `ascending`.\n",
    "\n",
    "Suatu series bertipe data numerikal juga dapat dengan mudah diplot distribusi datanya ke dalam histogram, yaitu menggunakan method **hist()**, contohnya seperti ini."
   ]
  },
  {
   "cell_type": "code",
   "execution_count": 47,
   "id": "913fe77b",
   "metadata": {},
   "outputs": [
    {
     "data": {
      "text/plain": [
       "<AxesSubplot:>"
      ]
     },
     "execution_count": 47,
     "metadata": {},
     "output_type": "execute_result"
    },
    {
     "data": {
      "image/png": "[encoded data removed]",
      "text/plain": [
       "<Figure size 432x288 with 1 Axes>"
      ]
     },
     "metadata": {
      "needs_background": "light"
     },
     "output_type": "display_data"
    }
   ],
   "source": [
    "umur_pengusaha.hist()"
   ]
  },
  {
   "cell_type": "markdown",
   "id": "78beccdd",
   "metadata": {},
   "source": [
    "Topik visualisasi data akan dibahas secara terpisah karena melibatkan pustaka lain.\n",
    "\n",
    "Terakhir untuk pembahasan kali ini, kita dapat membuang index yang sudah ditetapkan sebelumnya, yaitu dengan menggunakan method **reset_index()**.\n",
    "\n",
    "Sebagai contoh awal, akang langsung dituliskan argumen `True` untuk parameter `drop`, sehingga hasilnya adalah"
   ]
  },
  {
   "cell_type": "code",
   "execution_count": 48,
   "id": "8403e8b1",
   "metadata": {},
   "outputs": [
    {
     "data": {
      "text/plain": [
       "0    57\n",
       "1    49\n",
       "2    72\n",
       "3    65\n",
       "4    36\n",
       "5    90\n",
       "6    76\n",
       "7    48\n",
       "8    47\n",
       "9    63\n",
       "Name: umur_pengusaha, dtype: int64"
      ]
     },
     "execution_count": 48,
     "metadata": {},
     "output_type": "execute_result"
    }
   ],
   "source": [
    "umur_pengusaha.reset_index(drop=True)"
   ]
  },
  {
   "cell_type": "markdown",
   "id": "094ce468",
   "metadata": {},
   "source": [
    "Indeks sebelumnya berhasil dibuang dan dikembalikan ke indeks default (dimulai dari 0).\n",
    "\n",
    "Apa efeknya jika method reset_index() dipanggil tanpa argumen apapun?\n",
    "\n",
    "Sebagaimana diperlihatkan pada contoh berikut, pemanggilan method reset_index() tanpa argumen akan mengembalikan indeks ke nilai default (dimulai dari o), tetapi indeks awal akan disimpan sebagai kolom baru, sehingga kini series berubah menjadi suatu dataframe."
   ]
  },
  {
   "cell_type": "code",
   "execution_count": 49,
   "id": "bb23bb20",
   "metadata": {
    "scrolled": true
   },
   "outputs": [
    {
     "data": {
      "text/html": [
       "<div>\n",
       "<style scoped>\n",
       "    .dataframe tbody tr th:only-of-type {\n",
       "        vertical-align: middle;\n",
       "    }\n",
       "\n",
       "    .dataframe tbody tr th {\n",
       "        vertical-align: top;\n",
       "    }\n",
       "\n",
       "    .dataframe thead th {\n",
       "        text-align: right;\n",
       "    }\n",
       "</style>\n",
       "<table border=\"1\" class=\"dataframe\">\n",
       "  <thead>\n",
       "    <tr style=\"text-align: right;\">\n",
       "      <th></th>\n",
       "      <th>index</th>\n",
       "      <th>umur_pengusaha</th>\n",
       "    </tr>\n",
       "  </thead>\n",
       "  <tbody>\n",
       "    <tr>\n",
       "      <th>0</th>\n",
       "      <td>Jeff Bezos</td>\n",
       "      <td>57</td>\n",
       "    </tr>\n",
       "    <tr>\n",
       "      <th>1</th>\n",
       "      <td>Elon Musk</td>\n",
       "      <td>49</td>\n",
       "    </tr>\n",
       "    <tr>\n",
       "      <th>2</th>\n",
       "      <td>Bernard Arnault</td>\n",
       "      <td>72</td>\n",
       "    </tr>\n",
       "    <tr>\n",
       "      <th>3</th>\n",
       "      <td>Bill Gates</td>\n",
       "      <td>65</td>\n",
       "    </tr>\n",
       "    <tr>\n",
       "      <th>4</th>\n",
       "      <td>Mark Zuckerberg</td>\n",
       "      <td>36</td>\n",
       "    </tr>\n",
       "    <tr>\n",
       "      <th>5</th>\n",
       "      <td>Warren Buffet</td>\n",
       "      <td>90</td>\n",
       "    </tr>\n",
       "    <tr>\n",
       "      <th>6</th>\n",
       "      <td>Larry Ellison</td>\n",
       "      <td>76</td>\n",
       "    </tr>\n",
       "    <tr>\n",
       "      <th>7</th>\n",
       "      <td>Larry Page</td>\n",
       "      <td>48</td>\n",
       "    </tr>\n",
       "    <tr>\n",
       "      <th>8</th>\n",
       "      <td>Sergey Brin</td>\n",
       "      <td>47</td>\n",
       "    </tr>\n",
       "    <tr>\n",
       "      <th>9</th>\n",
       "      <td>Mukesh Ambani</td>\n",
       "      <td>63</td>\n",
       "    </tr>\n",
       "  </tbody>\n",
       "</table>\n",
       "</div>"
      ],
      "text/plain": [
       "             index  umur_pengusaha\n",
       "0       Jeff Bezos              57\n",
       "1        Elon Musk              49\n",
       "2  Bernard Arnault              72\n",
       "3       Bill Gates              65\n",
       "4  Mark Zuckerberg              36\n",
       "5    Warren Buffet              90\n",
       "6    Larry Ellison              76\n",
       "7       Larry Page              48\n",
       "8      Sergey Brin              47\n",
       "9    Mukesh Ambani              63"
      ]
     },
     "execution_count": 49,
     "metadata": {},
     "output_type": "execute_result"
    }
   ],
   "source": [
    "umur_pengusaha.reset_index()"
   ]
  },
  {
   "cell_type": "markdown",
   "id": "66d03b83",
   "metadata": {},
   "source": [
    "Untuk dataframe akan kita bahas pada topik selanjutnya.\n",
    "\n",
    "Masih banyak methods series yang belum dibahas pada topik ini, silakan eksplorasi mandiri lebih jauh. Untuk daftar lengkap methods pada suatu series, dapat langsung merujuk pada [API](https://pandas.pydata.org/docs/reference/api/pandas.Series.html) pandas series."
   ]
  }
 ],
 "metadata": {
  "kernelspec": {
   "display_name": "Python 3 (ipykernel)",
   "language": "python",
   "name": "python3"
  },
  "language_info": {
   "codemirror_mode": {
    "name": "ipython",
    "version": 3
   },
   "file_extension": ".py",
   "mimetype": "text/x-python",
   "name": "python",
   "nbconvert_exporter": "python",
   "pygments_lexer": "ipython3",
   "version": "3.8.2"
  }
 },
 "nbformat": 4,
 "nbformat_minor": 5
}
