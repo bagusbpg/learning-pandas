{
 "cells": [
  {
   "cell_type": "markdown",
   "id": "cb2b376e",
   "metadata": {},
   "source": [
    "# Membuat `Pandas Series`"
   ]
  },
  {
   "cell_type": "markdown",
   "id": "9b3dfef4",
   "metadata": {},
   "source": [
    "Misalkan kita memiliki informasi tentang [pengusaha sukses](https://en.wikipedia.org/wiki/The_World%27s_Billionaires), meliputi namanya, umurnya, total kekayaannya, dan lain sebagainya.\n",
    "\n",
    "Sebagai contoh, per April 2021, Elon Musk, seorang pengusaha berumur 49 tahun asal Amerika Serikat, memiliki total kekayaan 151 triliun Dolar Amerika Serikat.\n",
    "\n",
    "Informasi tersebut dapat diungkapkan sebagai berikut:"
   ]
  },
  {
   "cell_type": "code",
   "execution_count": 1,
   "id": "890e982e",
   "metadata": {},
   "outputs": [],
   "source": [
    "nama_pengusaha = \"Elon Musk\"\n",
    "umur_pengusaha = 49\n",
    "negara_asal = \"Amerika Serikat\"\n",
    "total_kekayaan = 151_000_000_000_000"
   ]
  },
  {
   "cell_type": "code",
   "execution_count": 2,
   "id": "e71ac718",
   "metadata": {},
   "outputs": [
    {
     "data": {
      "text/plain": [
       "'Elon Musk'"
      ]
     },
     "execution_count": 2,
     "metadata": {},
     "output_type": "execute_result"
    }
   ],
   "source": [
    "nama_pengusaha"
   ]
  },
  {
   "cell_type": "code",
   "execution_count": 3,
   "id": "18df4390",
   "metadata": {},
   "outputs": [
    {
     "data": {
      "text/plain": [
       "49"
      ]
     },
     "execution_count": 3,
     "metadata": {},
     "output_type": "execute_result"
    }
   ],
   "source": [
    "umur_pengusaha"
   ]
  },
  {
   "cell_type": "code",
   "execution_count": 4,
   "id": "d9ad6e37",
   "metadata": {},
   "outputs": [
    {
     "data": {
      "text/plain": [
       "'Amerika Serikat'"
      ]
     },
     "execution_count": 4,
     "metadata": {},
     "output_type": "execute_result"
    }
   ],
   "source": [
    "negara_asal"
   ]
  },
  {
   "cell_type": "code",
   "execution_count": 5,
   "id": "fc9260c3",
   "metadata": {},
   "outputs": [
    {
     "data": {
      "text/plain": [
       "151000000000000"
      ]
     },
     "execution_count": 5,
     "metadata": {},
     "output_type": "execute_result"
    }
   ],
   "source": [
    "total_kekayaan"
   ]
  },
  {
   "cell_type": "markdown",
   "id": "9cd7cd46",
   "metadata": {},
   "source": [
    "Walaupun secara teknis memungkinkan, menyatakan informasi dengan cara di atas akan merepotkan jika datanya semakin banyak, baik saat membuat, mengolah, atau menyajikannya.\n",
    "\n",
    "Informasi tunggal seperti di atas disebut dengan **skalar**. Beberapa skalar dapat dihimpun menjadi satu ke dalam suatu struktur data yang disebut **series**.\n",
    "\n",
    "Untuk membuat series, hal pertama yang perlu dilakukan adalah mengimpor pustaka **pandas**.\n",
    "\n",
    "Sesuai kebiasaan umum di bidang ilmu data, disarankan untuk memberi alias **pd** untuk pustaka pandas tersebut."
   ]
  },
  {
   "cell_type": "code",
   "execution_count": 6,
   "id": "3830ecec",
   "metadata": {},
   "outputs": [],
   "source": [
    "import pandas as pd"
   ]
  },
  {
   "cell_type": "markdown",
   "id": "530119d8",
   "metadata": {},
   "source": [
    "[API](https://pandas.pydata.org/docs/reference/api/pandas.Series.html) untuk membuat pandas series adalah sebagai berikut:\n",
    "\n",
    "**`pd.Series(data=None, index=None, dtype=None, name=None, copy=False, fastpath=False)`**\n",
    "\n",
    "Kita mulai dengan contoh implementasi yang paling sederhana.\n",
    "\n",
    "Kita akan membuat pandas series berisi nama-nama 10 pengusaha terkaya di dunia."
   ]
  },
  {
   "cell_type": "code",
   "execution_count": 7,
   "id": "d601a7cd",
   "metadata": {
    "scrolled": false
   },
   "outputs": [
    {
     "data": {
      "text/plain": [
       "0         Jeff Bezos\n",
       "1          Elon Musk\n",
       "2    Bernard Arnault\n",
       "3         Bill Gates\n",
       "4    Mark Zuckerberg\n",
       "5      Warren Buffet\n",
       "6      Larry Ellison\n",
       "7         Larry Page\n",
       "8        Sergey Brin\n",
       "9      Mukesh Ambani\n",
       "dtype: object"
      ]
     },
     "execution_count": 7,
     "metadata": {},
     "output_type": "execute_result"
    }
   ],
   "source": [
    "pd.Series(['Jeff Bezos', 'Elon Musk', 'Bernard Arnault', 'Bill Gates', 'Mark Zuckerberg',\n",
    "           'Warren Buffet', 'Larry Ellison', 'Larry Page', 'Sergey Brin', 'Mukesh Ambani'])"
   ]
  },
  {
   "cell_type": "markdown",
   "id": "1c61bd2f",
   "metadata": {},
   "source": [
    "Artinya, kita cukup memasukkan sebuah objek **list** sebagai argumen untuk parameter data pada saat membuat pandas series dengan pd.Series().\n",
    "\n",
    "Kita bisa mengkustomasi series yang kita buat, misalnya kita ingin menetapkan indeks, nama, tipe data series tersebut.\n",
    "\n",
    "Contohnya adalah sebagai berikut."
   ]
  },
  {
   "cell_type": "code",
   "execution_count": 8,
   "id": "76ad87fa",
   "metadata": {},
   "outputs": [
    {
     "data": {
      "text/plain": [
       "1          Jeff Bezos\n",
       "2           Elon Musk\n",
       "3     Bernard Arnault\n",
       "4          Bill Gates\n",
       "5     Mark Zuckerberg\n",
       "6       Warren Buffet\n",
       "7       Larry Ellison\n",
       "8          Larry Page\n",
       "9         Sergey Brin\n",
       "10      Mukesh Ambani\n",
       "Name: nama_pengusaha, dtype: string"
      ]
     },
     "execution_count": 8,
     "metadata": {},
     "output_type": "execute_result"
    }
   ],
   "source": [
    "data_nama_pengusaha = ['Jeff Bezos', 'Elon Musk', 'Bernard Arnault', 'Bill Gates', 'Mark Zuckerberg',\n",
    "                       'Warren Buffet', 'Larry Ellison', 'Larry Page', 'Sergey Brin', 'Mukesh Ambani']\n",
    "\n",
    "pd.Series(data_nama_pengusaha, index=range(1, 11), dtype='string', name='nama_pengusaha')"
   ]
  },
  {
   "cell_type": "markdown",
   "id": "d2eb6312",
   "metadata": {},
   "source": [
    "Perhatikan bahwa indeks kini dimulai dari 1, tipe data sudah berubah menjadi `string`, dan series memiliki nama baru yaitu `nama_pengusaha`.\n",
    "\n",
    "Kita juga bisa menyimpan pandas series dalam suatu variabel.\n",
    "\n",
    "Contohnya adalah sebagai berikut."
   ]
  },
  {
   "cell_type": "code",
   "execution_count": 9,
   "id": "b821a14c",
   "metadata": {
    "scrolled": true
   },
   "outputs": [
    {
     "data": {
      "text/plain": [
       "1          Jeff Bezos\n",
       "2           Elon Musk\n",
       "3     Bernard Arnault\n",
       "4          Bill Gates\n",
       "5     Mark Zuckerberg\n",
       "6       Warren Buffet\n",
       "7       Larry Ellison\n",
       "8          Larry Page\n",
       "9         Sergey Brin\n",
       "10      Mukesh Ambani\n",
       "Name: nama_pengusaha, dtype: string"
      ]
     },
     "execution_count": 9,
     "metadata": {},
     "output_type": "execute_result"
    }
   ],
   "source": [
    "nama_pengusaha = pd.Series(data_nama_pengusaha, index=range(1, 11), dtype='string', name='nama_pengusaha')\n",
    "nama_pengusaha"
   ]
  },
  {
   "cell_type": "markdown",
   "id": "af62317c",
   "metadata": {},
   "source": [
    "Contoh lainnya:"
   ]
  },
  {
   "cell_type": "code",
   "execution_count": 10,
   "id": "7a0b301c",
   "metadata": {},
   "outputs": [],
   "source": [
    "# memakai index berupa string\n",
    "index = ['Jeff Bezos', 'Elon Musk', 'Bernard Arnault', 'Bill Gates', 'Mark Zuckerberg',\n",
    "         'Warren Buffet', 'Larry Ellison', 'Larry Page', 'Sergey Brin', 'Mukesh Ambani']\n",
    "\n",
    "umur_pengusaha = pd.Series(\n",
    "    [57, 49, 72, 65, 36, 90, 76, 48, 47, 63],\n",
    "    index=index,\n",
    "    name='umur_pengusaha'\n",
    ")\n",
    "\n",
    "negara_asal = pd.Series(\n",
    "    ['Amerika Serikat', 'Amerika Serikat', 'Perancis', 'Amerika Serikat', 'Amerika Serikat',\n",
    "     'Amerika Serikat', 'Amerika Serikat', 'Amerika Serikat', 'Amerika Serikat', 'India'],\n",
    "    index=index,\n",
    "    name='negara_asal'\n",
    ")\n",
    "\n",
    "# memakai dict untuk mendefinisikan sekaligus data dan index\n",
    "data_total_kekayaan = {'Jeff Bezos':177000000000000, 'Elon Musk':151000000000000,\n",
    "                       'Bernard Arnault':150000000000000, 'Bill Gates':124000000000000,\n",
    "                       'Mark Zuckerberg':97000000000000, 'Warren Buffet':96000000000000,\n",
    "                       'Larry Ellison':93000000000000, 'Larry Page':91500000000000,\n",
    "                       'Sergey Brin':89000000000000, 'Mukesh Ambani':84500000000000}\n",
    "\n",
    "data_nama_perusahaan = {'Jeff Bezos':'Amazon', 'Elon Musk':'Tesla, SpaceX',\n",
    "                        'Bernard Arnault':'LVMH', 'Bill Gates':'Microsoft',\n",
    "                        'Mark Zuckerberg':'Meta Platforms', 'Warren Buffet':'Berkshire Hathaway',\n",
    "                        'Larry Ellison':'Oracle Corporation', 'Larry Page':'Alphabet Inc.',\n",
    "                        'Sergey Brin':'Alphabet Inc.', 'Mukesh Ambani':'Reliance Industries'}\n",
    "\n",
    "total_kekayaan = pd.Series(data_total_kekayaan, name='total_kekayaan')\n",
    "\n",
    "nama_perusahaan = pd.Series(data_nama_perusahaan, name='nama_perusahaan')"
   ]
  },
  {
   "cell_type": "markdown",
   "id": "7ae4daea",
   "metadata": {},
   "source": [
    "Hasilnya adalah sebagai berikut."
   ]
  },
  {
   "cell_type": "code",
   "execution_count": 11,
   "id": "4199b73f",
   "metadata": {},
   "outputs": [
    {
     "data": {
      "text/plain": [
       "Jeff Bezos         57\n",
       "Elon Musk          49\n",
       "Bernard Arnault    72\n",
       "Bill Gates         65\n",
       "Mark Zuckerberg    36\n",
       "Warren Buffet      90\n",
       "Larry Ellison      76\n",
       "Larry Page         48\n",
       "Sergey Brin        47\n",
       "Mukesh Ambani      63\n",
       "Name: umur_pengusaha, dtype: int64"
      ]
     },
     "execution_count": 11,
     "metadata": {},
     "output_type": "execute_result"
    }
   ],
   "source": [
    "umur_pengusaha"
   ]
  },
  {
   "cell_type": "code",
   "execution_count": 12,
   "id": "67a67c6c",
   "metadata": {},
   "outputs": [
    {
     "data": {
      "text/plain": [
       "Jeff Bezos         Amerika Serikat\n",
       "Elon Musk          Amerika Serikat\n",
       "Bernard Arnault           Perancis\n",
       "Bill Gates         Amerika Serikat\n",
       "Mark Zuckerberg    Amerika Serikat\n",
       "Warren Buffet      Amerika Serikat\n",
       "Larry Ellison      Amerika Serikat\n",
       "Larry Page         Amerika Serikat\n",
       "Sergey Brin        Amerika Serikat\n",
       "Mukesh Ambani                India\n",
       "Name: negara_asal, dtype: object"
      ]
     },
     "execution_count": 12,
     "metadata": {},
     "output_type": "execute_result"
    }
   ],
   "source": [
    "negara_asal"
   ]
  },
  {
   "cell_type": "code",
   "execution_count": 13,
   "id": "74e8bb7c",
   "metadata": {},
   "outputs": [
    {
     "data": {
      "text/plain": [
       "Jeff Bezos         177000000000000\n",
       "Elon Musk          151000000000000\n",
       "Bernard Arnault    150000000000000\n",
       "Bill Gates         124000000000000\n",
       "Mark Zuckerberg     97000000000000\n",
       "Warren Buffet       96000000000000\n",
       "Larry Ellison       93000000000000\n",
       "Larry Page          91500000000000\n",
       "Sergey Brin         89000000000000\n",
       "Mukesh Ambani       84500000000000\n",
       "Name: total_kekayaan, dtype: int64"
      ]
     },
     "execution_count": 13,
     "metadata": {},
     "output_type": "execute_result"
    }
   ],
   "source": [
    "total_kekayaan"
   ]
  },
  {
   "cell_type": "code",
   "execution_count": 14,
   "id": "232a85ff",
   "metadata": {
    "scrolled": true
   },
   "outputs": [
    {
     "data": {
      "text/plain": [
       "Jeff Bezos                      Amazon\n",
       "Elon Musk                Tesla, SpaceX\n",
       "Bernard Arnault                   LVMH\n",
       "Bill Gates                   Microsoft\n",
       "Mark Zuckerberg         Meta Platforms\n",
       "Warren Buffet       Berkshire Hathaway\n",
       "Larry Ellison       Oracle Corporation\n",
       "Larry Page               Alphabet Inc.\n",
       "Sergey Brin              Alphabet Inc.\n",
       "Mukesh Ambani      Reliance Industries\n",
       "Name: nama_perusahaan, dtype: object"
      ]
     },
     "execution_count": 14,
     "metadata": {},
     "output_type": "execute_result"
    }
   ],
   "source": [
    "nama_perusahaan"
   ]
  },
  {
   "cell_type": "markdown",
   "id": "368ca143",
   "metadata": {},
   "source": [
    "Membuat pandas series itu mudah, bukan?"
   ]
  }
 ],
 "metadata": {
  "kernelspec": {
   "display_name": "Python 3 (ipykernel)",
   "language": "python",
   "name": "python3"
  },
  "language_info": {
   "codemirror_mode": {
    "name": "ipython",
    "version": 3
   },
   "file_extension": ".py",
   "mimetype": "text/x-python",
   "name": "python",
   "nbconvert_exporter": "python",
   "pygments_lexer": "ipython3",
   "version": "3.8.2"
  }
 },
 "nbformat": 4,
 "nbformat_minor": 5
}
