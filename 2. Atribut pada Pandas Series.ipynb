{
 "cells": [
  {
   "cell_type": "markdown",
   "id": "d2acbc62",
   "metadata": {},
   "source": [
    "# Attributes pada Pandas Series "
   ]
  },
  {
   "cell_type": "markdown",
   "id": "02ad1fcf",
   "metadata": {},
   "source": [
    "Pada topik sebelumnya, \"Membuat Pandas Series\", kita sudah berhasil membuat series. Lalu apa manfaat yang kita dapat jika data skalar dihimpun ke dalam suatu series?\n",
    "\n",
    "Manfaat utamanya adalah karena series memiliki attributes dan methods yang dapat dipergunakan untuk mempermudah pengolahan data.\n",
    "\n",
    "Pada topik kali ini, kita mulai dari attribues melalui contoh sederhana. Pertama, kita akan menggunakan series dari topik sebelumnya."
   ]
  },
  {
   "cell_type": "code",
   "execution_count": 1,
   "id": "04a10e4a",
   "metadata": {},
   "outputs": [],
   "source": [
    "import pandas as pd"
   ]
  },
  {
   "cell_type": "code",
   "execution_count": 2,
   "id": "ae0a1601",
   "metadata": {},
   "outputs": [],
   "source": [
    "data_umur_pengusaha = {'Jeff Bezos':57, 'Elon Musk':49, 'Bernard Arnault':72, 'Bill Gates':65,\n",
    "                       'Mark Zuckerberg':36, 'Warren Buffet':90, 'Larry Ellison':76, 'Larry Page':48,\n",
    "                       'Sergey Brin':47, 'Mukesh Ambani':63}\n",
    "\n",
    "data_negara_asal = {'Jeff Bezos':'Amerika Serikat', 'Elon Musk':'Amerika Serikat',\n",
    "                    'Bernard Arnault':'Perancis', 'Bill Gates':'Amerika Serikat',\n",
    "                    'Mark Zuckerberg':'Amerika Serikat', 'Warren Buffet':'Amerika Serikat',\n",
    "                    'Larry Page':'Amerika Serikat', 'Mukesh Ambani':'India'}\n",
    "\n",
    "index = ['Jeff Bezos', 'Elon Musk', 'Bernard Arnault', 'Bill Gates', 'Mark Zuckerberg',\n",
    "         'Warren Buffet', 'Larry Ellison', 'Larry Page', 'Sergey Brin', 'Mukesh Ambani']\n",
    "\n",
    "umur_pengusaha = pd.Series(data_umur_pengusaha, name='umur_pengusaha')\n",
    "\n",
    "negara_asal = pd.Series(data_negara_asal, index=index, name='negara_asal')"
   ]
  },
  {
   "cell_type": "code",
   "execution_count": 3,
   "id": "8bf3ac57",
   "metadata": {},
   "outputs": [
    {
     "data": {
      "text/plain": [
       "Jeff Bezos         57\n",
       "Elon Musk          49\n",
       "Bernard Arnault    72\n",
       "Bill Gates         65\n",
       "Mark Zuckerberg    36\n",
       "Warren Buffet      90\n",
       "Larry Ellison      76\n",
       "Larry Page         48\n",
       "Sergey Brin        47\n",
       "Mukesh Ambani      63\n",
       "Name: umur_pengusaha, dtype: int64"
      ]
     },
     "execution_count": 3,
     "metadata": {},
     "output_type": "execute_result"
    }
   ],
   "source": [
    "umur_pengusaha"
   ]
  },
  {
   "cell_type": "code",
   "execution_count": 4,
   "id": "c4499e70",
   "metadata": {},
   "outputs": [
    {
     "data": {
      "text/plain": [
       "Jeff Bezos         Amerika Serikat\n",
       "Elon Musk          Amerika Serikat\n",
       "Bernard Arnault           Perancis\n",
       "Bill Gates         Amerika Serikat\n",
       "Mark Zuckerberg    Amerika Serikat\n",
       "Warren Buffet      Amerika Serikat\n",
       "Larry Ellison                  NaN\n",
       "Larry Page         Amerika Serikat\n",
       "Sergey Brin                    NaN\n",
       "Mukesh Ambani                India\n",
       "Name: negara_asal, dtype: object"
      ]
     },
     "execution_count": 4,
     "metadata": {},
     "output_type": "execute_result"
    }
   ],
   "source": [
    "negara_asal"
   ]
  },
  {
   "cell_type": "markdown",
   "id": "f7b6e750",
   "metadata": {},
   "source": [
    "Berikut akan dibahas beberapa di antara sekian banyak attributes yang dapat diterapkan pada suatu series.\n",
    "\n",
    "Pertama, kita dapat mengetahui banyaknya observasi dalam suatu series dengan memanggil attribute **shape**. Contohnya,"
   ]
  },
  {
   "cell_type": "code",
   "execution_count": 5,
   "id": "e5940724",
   "metadata": {
    "scrolled": false
   },
   "outputs": [
    {
     "data": {
      "text/plain": [
       "10"
      ]
     },
     "execution_count": 5,
     "metadata": {},
     "output_type": "execute_result"
    }
   ],
   "source": [
    "negara_asal.shape[0]"
   ]
  },
  {
   "cell_type": "markdown",
   "id": "25195226",
   "metadata": {},
   "source": [
    "yang artinya series negara_asal berukuran 10 atau memiliki 10 observasi di dalamnya.\n",
    "\n",
    "Indeks `0` diperlukan untuk mengakses jumlah baris dalam suatu series, yang tak lain menandakan jumlah observasi di dalam series tersebut.\n",
    "\n",
    "Perhatikan bahwa `nan` tetap dihitung sebagai observasi. Secara khusus, `nan` akan dibahas pada topik tersendiri.\n",
    "\n",
    "Attribute shape ini sama dengan ketika kita menjalankan fungsi len() dengan series sebagai argumennya."
   ]
  },
  {
   "cell_type": "code",
   "execution_count": 6,
   "id": "b4255a77",
   "metadata": {
    "scrolled": true
   },
   "outputs": [
    {
     "data": {
      "text/plain": [
       "10"
      ]
     },
     "execution_count": 6,
     "metadata": {},
     "output_type": "execute_result"
    }
   ],
   "source": [
    "len(negara_asal)"
   ]
  },
  {
   "cell_type": "markdown",
   "id": "ed4efa6a",
   "metadata": {},
   "source": [
    "Khusus pada series, attribute size juga bisa digantikan dengan attribute **size**. Contohnya,"
   ]
  },
  {
   "cell_type": "code",
   "execution_count": 7,
   "id": "fb97fb72",
   "metadata": {},
   "outputs": [
    {
     "data": {
      "text/plain": [
       "10"
      ]
     },
     "execution_count": 7,
     "metadata": {},
     "output_type": "execute_result"
    }
   ],
   "source": [
    "negara_asal.size"
   ]
  },
  {
   "cell_type": "markdown",
   "id": "365ac4f1",
   "metadata": {},
   "source": [
    "Kemudian, kita juga bisa memeriksa tipe data suatu series dengan attribute dtype. Contohnya,"
   ]
  },
  {
   "cell_type": "code",
   "execution_count": 8,
   "id": "ceb3df85",
   "metadata": {
    "scrolled": true
   },
   "outputs": [
    {
     "data": {
      "text/plain": [
       "dtype('int64')"
      ]
     },
     "execution_count": 8,
     "metadata": {},
     "output_type": "execute_result"
    }
   ],
   "source": [
    "umur_pengusaha.dtype"
   ]
  },
  {
   "cell_type": "markdown",
   "id": "e2fb825c",
   "metadata": {},
   "source": [
    "Suatu series juga bisa diperiksa apakah di dalamnya terdapat observasi ganda atau tidak melalui attribute **is_unique**. Contohnya,"
   ]
  },
  {
   "cell_type": "code",
   "execution_count": 9,
   "id": "75e8b52d",
   "metadata": {
    "scrolled": true
   },
   "outputs": [
    {
     "data": {
      "text/plain": [
       "False"
      ]
     },
     "execution_count": 9,
     "metadata": {},
     "output_type": "execute_result"
    }
   ],
   "source": [
    "negara_asal.is_unique"
   ]
  },
  {
   "cell_type": "markdown",
   "id": "222c0121",
   "metadata": {},
   "source": [
    "yang akan mengembalikan nilai `False` karena dalam series negara_asal terdapat perulangan observasi. Misalnya, negara Amerika Serikat muncul lebih dari 1 kali.\n",
    "\n",
    "Pemeriksaan terhadap ada tidaknya `nan` dalam suatu series juga bisa dilakukan melalui attribute **hasnans**. Contohnya,"
   ]
  },
  {
   "cell_type": "code",
   "execution_count": 10,
   "id": "c871d06c",
   "metadata": {},
   "outputs": [
    {
     "data": {
      "text/plain": [
       "True"
      ]
     },
     "execution_count": 10,
     "metadata": {},
     "output_type": "execute_result"
    }
   ],
   "source": [
    "negara_asal.hasnans"
   ]
  },
  {
   "cell_type": "markdown",
   "id": "f8f89b82",
   "metadata": {},
   "source": [
    "yang akan mengembalikan nilai True karena di dalam index, terdapat item yang tidak memiliki pasangannya dalam dictionary data_negara_asal, sehingga akan muncul `nan`.\n",
    "\n",
    "Kita juga dapat mengakses masing-masing observasi di dalam series dengan beberapa alternatif attribute sebagai berikut,"
   ]
  },
  {
   "cell_type": "code",
   "execution_count": 11,
   "id": "45c5e140",
   "metadata": {},
   "outputs": [
    {
     "data": {
      "text/plain": [
       "'India'"
      ]
     },
     "execution_count": 11,
     "metadata": {},
     "output_type": "execute_result"
    }
   ],
   "source": [
    "# alternatif 1\n",
    "negara_asal.at['Mukesh Ambani']"
   ]
  },
  {
   "cell_type": "code",
   "execution_count": 12,
   "id": "11d4ee1e",
   "metadata": {},
   "outputs": [
    {
     "data": {
      "text/plain": [
       "'India'"
      ]
     },
     "execution_count": 12,
     "metadata": {},
     "output_type": "execute_result"
    }
   ],
   "source": [
    "# alternatif 2\n",
    "negara_asal.iat[-1]"
   ]
  },
  {
   "cell_type": "code",
   "execution_count": 13,
   "id": "3525fa63",
   "metadata": {},
   "outputs": [
    {
     "data": {
      "text/plain": [
       "'India'"
      ]
     },
     "execution_count": 13,
     "metadata": {},
     "output_type": "execute_result"
    }
   ],
   "source": [
    "# alternatif 3\n",
    "negara_asal.loc['Mukesh Ambani']"
   ]
  },
  {
   "cell_type": "code",
   "execution_count": 14,
   "id": "e11fd77d",
   "metadata": {},
   "outputs": [
    {
     "data": {
      "text/plain": [
       "'India'"
      ]
     },
     "execution_count": 14,
     "metadata": {},
     "output_type": "execute_result"
    }
   ],
   "source": [
    "# alternatif 4\n",
    "negara_asal.iloc[-1]"
   ]
  },
  {
   "cell_type": "markdown",
   "id": "34cbc437",
   "metadata": {},
   "source": [
    "Attributes di atas sama dengan ketika kita mengakses suatu collections menggunakan indeksnya, sebagai berikut."
   ]
  },
  {
   "cell_type": "code",
   "execution_count": 15,
   "id": "4b433f6a",
   "metadata": {},
   "outputs": [
    {
     "data": {
      "text/plain": [
       "'India'"
      ]
     },
     "execution_count": 15,
     "metadata": {},
     "output_type": "execute_result"
    }
   ],
   "source": [
    "negara_asal[-1]"
   ]
  },
  {
   "cell_type": "markdown",
   "id": "4585f7a7",
   "metadata": {},
   "source": [
    "Untuk attributes series yang lain, silakan eksplorasi mandiri lebih jauh. Untuk daftar lengkap attributes pada suatu series, dapat langsung merujuk pada [API](https://pandas.pydata.org/docs/reference/api/pandas.Series.html) pandas series."
   ]
  }
 ],
 "metadata": {
  "kernelspec": {
   "display_name": "Python 3 (ipykernel)",
   "language": "python",
   "name": "python3"
  },
  "language_info": {
   "codemirror_mode": {
    "name": "ipython",
    "version": 3
   },
   "file_extension": ".py",
   "mimetype": "text/x-python",
   "name": "python",
   "nbconvert_exporter": "python",
   "pygments_lexer": "ipython3",
   "version": "3.8.2"
  }
 },
 "nbformat": 4,
 "nbformat_minor": 5
}
